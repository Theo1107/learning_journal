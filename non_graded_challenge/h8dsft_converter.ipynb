{
 "cells": [
  {
   "cell_type": "code",
   "execution_count": 24,
   "metadata": {},
   "outputs": [],
   "source": [
    "'''Buatlah sebuah function yang dapat mengonversi suhu dari kelvin ke celcius, dan celcius ke kelvin '''\n",
    "\n",
    "# definisi fungsi dengan parameter nilaiSuhu dan namaSuhuAwal(suhu yang ingin di konvert)\n",
    "def kovertCelciusDanKelvin (nilaiSuhu,namaSuhuAwal):\n",
    "    \n",
    "    # cek jika nama suhu yang ingin dikonvert adalah C \n",
    "    if (namaSuhuAwal.lower() == 'celcius'):\n",
    "        \n",
    "        # rumus konvert suhu dari C ke K\n",
    "        hasil = nilaiSuhu + 273\n",
    "    \n",
    "    # cek jika nama suhu yang ingin dikonvert adalah K\n",
    "    elif(namaSuhuAwal.lower() == 'kelvin'):\n",
    "        \n",
    "        # rumus konvert suhu dari K ke C\n",
    "        hasil = nilaiSuhu - 273\n",
    "    \n",
    "    # mengembalikan hasil yang merupakan suhu C atau K\n",
    "    return hasil"
   ]
  },
  {
   "cell_type": "code",
   "execution_count": 25,
   "metadata": {},
   "outputs": [
    {
     "data": {
      "text/plain": [
       "79"
      ]
     },
     "execution_count": 25,
     "metadata": {},
     "output_type": "execute_result"
    }
   ],
   "source": [
    "# panngil fungsi dengan parameter nilai suhunya dan nama suhu yang ingin dikonvert\n",
    "kovertCelciusDanKelvin(352,'kelvin')"
   ]
  },
  {
   "cell_type": "code",
   "execution_count": 26,
   "metadata": {},
   "outputs": [],
   "source": [
    "'''Buatlah sebuah function yang dapat mengkonversi suhu ke fahrenheit.\n",
    "Tambahkan parameter untuk memastikan bahwa argumen yang dimasukkan adalah celcius atau kelvin.\n",
    "Panggil function yang yang pertama jika diperlukan.\n",
    "'''\n",
    "# definisi fungsi dengan parameter nilaiSuhu dan namaSuhuAwal(suhu yang ingin di konvert)\n",
    "def konvertSuhuKeFahrenheit(nilaiSuhu,namaSuhuAwal):     \n",
    "    \n",
    "    # cek jika nama suhu yang ingin dikonvert adalah C \n",
    "    if(namaSuhuAwal.lower() == 'celcius'):\n",
    "        \n",
    "        # rumus konvert suhu dari C ke F\n",
    "        fahrenhait = (9/5)*nilaiSuhu + 32\n",
    "    \n",
    "    # cek jika nama suhu yang ingin dikonvert adalah C\n",
    "    elif(namaSuhuAwal.lower() == 'kelvin'):\n",
    "        \n",
    "        # rumus konvert suhu dari K ke F\n",
    "        fahrenhait = ((9/5)*(nilaiSuhu-273)) + 32\n",
    "    \n",
    "    # mengembalikan hasil yang merupakan suhu F\n",
    "    return fahrenhait\n",
    "    "
   ]
  },
  {
   "cell_type": "code",
   "execution_count": 27,
   "metadata": {},
   "outputs": [
    {
     "data": {
      "text/plain": [
       "-378.40000000000003"
      ]
     },
     "execution_count": 27,
     "metadata": {},
     "output_type": "execute_result"
    }
   ],
   "source": [
    "# panngil fungsi dengan parameter nilai suhunya dan nama suhu yang ingin dikonvert\n",
    "konvertSuhuKeFahrenheit(45,'kelvin')"
   ]
  },
  {
   "cell_type": "code",
   "execution_count": 17,
   "metadata": {},
   "outputs": [],
   "source": [
    "'''Buatlah sebuah function yang dapat mengkonversi suhu dari fahrenhait. \n",
    "Berikan argumen untuk memastikan bahwa outputnya adalah celcius atau kelvin'''\n",
    "\n",
    "# definisi fungsi dengan parameter nilaiSuhu dan namaSuhuAkhir(nama suhu dari hasil yang diinginkan)\n",
    "def konvertFahrenheitKeSuhu(nilaiSuhu,namaSuhuAkhir):\n",
    "    \n",
    "    # cek jika nama suhu yang diinginkan adalah C \n",
    "    if(namaSuhuAkhir.lower()== 'celcius'):\n",
    "        \n",
    "        # rumus konvert suhu dari F ke C\n",
    "        hasil = (5/9)*(nilaiSuhu - 32)\n",
    "    # cek jika nama suhu yang diinginkan adalah kelvin\n",
    "    elif(namaSuhuAkhir.lower()== 'kelvin'):\n",
    "        \n",
    "        # rumus konvert suhu dari F ke K\n",
    "        hasil = ((5/9)*(nilaiSuhu- 32)) + 273\n",
    "    \n",
    "    # mengembalikan hasil yang merupakan suhu K atau C\n",
    "    return hasil\n"
   ]
  },
  {
   "cell_type": "code",
   "execution_count": 18,
   "metadata": {},
   "outputs": [
    {
     "data": {
      "text/plain": [
       "294.1111111111111"
      ]
     },
     "execution_count": 18,
     "metadata": {},
     "output_type": "execute_result"
    }
   ],
   "source": [
    "# panngil fungsi dengan parameter nilai suhunya dan nama suhu dari hasi yang ingin dikonvert\n",
    "konvertFahrenheitKeSuhu(70, 'kelvin')"
   ]
  },
  {
   "cell_type": "code",
   "execution_count": null,
   "metadata": {},
   "outputs": [],
   "source": []
  }
 ],
 "metadata": {
  "interpreter": {
   "hash": "14508e694ed0bfc474b073f41892bb738c9e4d350d7847b76ddb7a6027250c76"
  },
  "kernelspec": {
   "display_name": "Python 3.9.7 ('base')",
   "language": "python",
   "name": "python3"
  },
  "language_info": {
   "codemirror_mode": {
    "name": "ipython",
    "version": 3
   },
   "file_extension": ".py",
   "mimetype": "text/x-python",
   "name": "python",
   "nbconvert_exporter": "python",
   "pygments_lexer": "ipython3",
   "version": "3.9.7"
  },
  "orig_nbformat": 4
 },
 "nbformat": 4,
 "nbformat_minor": 2
}
