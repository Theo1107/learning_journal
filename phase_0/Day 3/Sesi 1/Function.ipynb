{
 "cells": [
  {
   "cell_type": "code",
   "execution_count": 1,
   "metadata": {},
   "outputs": [],
   "source": [
    "def fungsi_cetak(variabel):\n",
    "    '''\n",
    "    ini adalah fungsi cetak\n",
    "    '''\n",
    "    print(f'saya ingin mencetak {variabel}')"
   ]
  },
  {
   "cell_type": "code",
   "execution_count": 2,
   "metadata": {},
   "outputs": [
    {
     "name": "stdout",
     "output_type": "stream",
     "text": [
      "saya ingin mencetak Rahman\n"
     ]
    }
   ],
   "source": [
    "fungsi_cetak('Rahman')"
   ]
  },
  {
   "cell_type": "code",
   "execution_count": 3,
   "metadata": {},
   "outputs": [],
   "source": [
    "def fungsi_cetak(variabel, var2 = \"Hacktiv8\"):\n",
    "    '''\n",
    "    ini adalah fungsi cetak\n",
    "    '''\n",
    "    print(f'saya ingin mencetak {variabel} dia adalah instruktor {var2}')"
   ]
  },
  {
   "cell_type": "code",
   "execution_count": 4,
   "metadata": {},
   "outputs": [
    {
     "name": "stdout",
     "output_type": "stream",
     "text": [
      "saya ingin mencetak haloo dia adalah instruktor rachman\n"
     ]
    }
   ],
   "source": [
    "fungsi_cetak('haloo', 'rachman')"
   ]
  },
  {
   "cell_type": "code",
   "execution_count": 5,
   "metadata": {},
   "outputs": [
    {
     "name": "stdout",
     "output_type": "stream",
     "text": [
      "saya ingin mencetak hallo dia adalah instruktor Hacktiv8\n"
     ]
    }
   ],
   "source": [
    "fungsi_cetak('hallo')"
   ]
  },
  {
   "cell_type": "code",
   "execution_count": 6,
   "metadata": {},
   "outputs": [
    {
     "name": "stdout",
     "output_type": "stream",
     "text": [
      "saya ingin mencetak uhuy dia adalah instruktor berpengalaman\n"
     ]
    }
   ],
   "source": [
    "fungsi_cetak(var2='berpengalaman', variabel='uhuy')"
   ]
  },
  {
   "cell_type": "code",
   "execution_count": 8,
   "metadata": {},
   "outputs": [
    {
     "name": "stdout",
     "output_type": "stream",
     "text": [
      "Values inside the function : [10, 20, 30, 1, 2, 3, 4]\n",
      "Values outside the Function :  [10, 20, 30]\n"
     ]
    }
   ],
   "source": [
    "myList = [10,20,30]\n",
    "def changeMe(myList):\n",
    "    '''\n",
    "    docString\n",
    "    '''\n",
    "    myList = myList + [1,2,3,4]\n",
    "    print('Values inside the function :', myList)\n",
    "    return myList\n",
    "\n",
    "changeMe(myList)\n",
    "print('Values outside the Function : ', myList)"
   ]
  },
  {
   "cell_type": "code",
   "execution_count": 7,
   "metadata": {},
   "outputs": [],
   "source": [
    "def bmi_calculator(nama,berat , tinggi):\n",
    "    bmi = berat / (tinggi**2)\n",
    "    \n",
    "    if bmi < 18.5 :\n",
    "        print(f'{nama} memiliki bmi = {bmi}, status = \"Kekurangan Berat Badan\" ')\n",
    "    elif 18.5 <= bmi <= 24.9  :\n",
    "        print(f'{nama} memiliki bmi = {bmi}, status = \"Normal (Ideal)\" ')\n",
    "    elif 25.0 <= bmi <= 29.9  :\n",
    "        print(f'{nama} memiliki bmi = {bmi}, status = \"Kelebihan Berat Badan\" ')\n",
    "    else:\n",
    "        print(f'{nama} memiliki bmi = {bmi}, status = \"Kegemukan (Obesitas)\" ')\n",
    "    "
   ]
  },
  {
   "cell_type": "code",
   "execution_count": 12,
   "metadata": {},
   "outputs": [],
   "source": [
    "nama = input('Ketikan Nama Anda: ')\n",
    "berat = input('Ketikan berat badan :')"
   ]
  },
  {
   "cell_type": "code",
   "execution_count": null,
   "metadata": {},
   "outputs": [],
   "source": []
  }
 ],
 "metadata": {
  "interpreter": {
   "hash": "4f72cb134e39ef5cd6f4efeffc6b7c5f7cb2b1f27057a6758127c329a37f466d"
  },
  "kernelspec": {
   "display_name": "Python 3.10.3 64-bit",
   "language": "python",
   "name": "python3"
  },
  "language_info": {
   "codemirror_mode": {
    "name": "ipython",
    "version": 3
   },
   "file_extension": ".py",
   "mimetype": "text/x-python",
   "name": "python",
   "nbconvert_exporter": "python",
   "pygments_lexer": "ipython3",
   "version": "3.10.3"
  },
  "orig_nbformat": 4
 },
 "nbformat": 4,
 "nbformat_minor": 2
}
